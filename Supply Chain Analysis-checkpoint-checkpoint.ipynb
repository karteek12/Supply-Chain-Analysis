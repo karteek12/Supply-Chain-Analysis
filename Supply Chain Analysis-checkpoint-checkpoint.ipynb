{
 "cells": [
  {
   "cell_type": "code",
   "execution_count": 1,
   "id": "0a6ae5a5",
   "metadata": {},
   "outputs": [],
   "source": [
    "import pandas as pd\n",
    "import numpy as np\n",
    "import seaborn as sns\n",
    "import matplotlib.pyplot as plt"
   ]
  },
  {
   "cell_type": "code",
   "execution_count": 2,
   "id": "cc5c964b",
   "metadata": {},
   "outputs": [],
   "source": [
    "import warnings\n",
    "warnings.filterwarnings('ignore')"
   ]
  },
  {
   "cell_type": "code",
   "execution_count": 3,
   "id": "f25f639a",
   "metadata": {},
   "outputs": [],
   "source": [
    "data = pd.read_csv(\"C:\\Supply Chain Analytics\\Supply-Chain-Analysis-Capstone-Project-main\\Supply-Chain-Analysis-Capstone-Project-main\\supply_chain_data.csv\")"
   ]
  },
  {
   "cell_type": "code",
   "execution_count": 4,
   "id": "840cdcec",
   "metadata": {},
   "outputs": [
    {
     "data": {
      "text/html": [
       "<div>\n",
       "<style scoped>\n",
       "    .dataframe tbody tr th:only-of-type {\n",
       "        vertical-align: middle;\n",
       "    }\n",
       "\n",
       "    .dataframe tbody tr th {\n",
       "        vertical-align: top;\n",
       "    }\n",
       "\n",
       "    .dataframe thead th {\n",
       "        text-align: right;\n",
       "    }\n",
       "</style>\n",
       "<table border=\"1\" class=\"dataframe\">\n",
       "  <thead>\n",
       "    <tr style=\"text-align: right;\">\n",
       "      <th></th>\n",
       "      <th>Product type</th>\n",
       "      <th>SKU</th>\n",
       "      <th>Price</th>\n",
       "      <th>Availability</th>\n",
       "      <th>Number of products sold</th>\n",
       "      <th>Revenue generated</th>\n",
       "      <th>Customer demographics</th>\n",
       "      <th>Stock levels</th>\n",
       "      <th>Lead times</th>\n",
       "      <th>Order quantities</th>\n",
       "      <th>...</th>\n",
       "      <th>Location</th>\n",
       "      <th>Lead time</th>\n",
       "      <th>Production volumes</th>\n",
       "      <th>Manufacturing lead time</th>\n",
       "      <th>Manufacturing costs</th>\n",
       "      <th>Inspection results</th>\n",
       "      <th>Defect rates</th>\n",
       "      <th>Transportation modes</th>\n",
       "      <th>Routes</th>\n",
       "      <th>Costs</th>\n",
       "    </tr>\n",
       "  </thead>\n",
       "  <tbody>\n",
       "    <tr>\n",
       "      <th>0</th>\n",
       "      <td>haircare</td>\n",
       "      <td>SKU0</td>\n",
       "      <td>69.808006</td>\n",
       "      <td>55</td>\n",
       "      <td>802</td>\n",
       "      <td>8661.996792</td>\n",
       "      <td>Non-binary</td>\n",
       "      <td>58</td>\n",
       "      <td>7</td>\n",
       "      <td>96</td>\n",
       "      <td>...</td>\n",
       "      <td>Mumbai</td>\n",
       "      <td>29</td>\n",
       "      <td>215</td>\n",
       "      <td>29</td>\n",
       "      <td>46.279879</td>\n",
       "      <td>Pending</td>\n",
       "      <td>0.226410</td>\n",
       "      <td>Road</td>\n",
       "      <td>Route B</td>\n",
       "      <td>187.752075</td>\n",
       "    </tr>\n",
       "    <tr>\n",
       "      <th>1</th>\n",
       "      <td>skincare</td>\n",
       "      <td>SKU1</td>\n",
       "      <td>14.843523</td>\n",
       "      <td>95</td>\n",
       "      <td>736</td>\n",
       "      <td>7460.900065</td>\n",
       "      <td>Female</td>\n",
       "      <td>53</td>\n",
       "      <td>30</td>\n",
       "      <td>37</td>\n",
       "      <td>...</td>\n",
       "      <td>Mumbai</td>\n",
       "      <td>23</td>\n",
       "      <td>517</td>\n",
       "      <td>30</td>\n",
       "      <td>33.616769</td>\n",
       "      <td>Pending</td>\n",
       "      <td>4.854068</td>\n",
       "      <td>Road</td>\n",
       "      <td>Route B</td>\n",
       "      <td>503.065579</td>\n",
       "    </tr>\n",
       "    <tr>\n",
       "      <th>2</th>\n",
       "      <td>haircare</td>\n",
       "      <td>SKU2</td>\n",
       "      <td>11.319683</td>\n",
       "      <td>34</td>\n",
       "      <td>8</td>\n",
       "      <td>9577.749626</td>\n",
       "      <td>Unknown</td>\n",
       "      <td>1</td>\n",
       "      <td>10</td>\n",
       "      <td>88</td>\n",
       "      <td>...</td>\n",
       "      <td>Mumbai</td>\n",
       "      <td>12</td>\n",
       "      <td>971</td>\n",
       "      <td>27</td>\n",
       "      <td>30.688019</td>\n",
       "      <td>Pending</td>\n",
       "      <td>4.580593</td>\n",
       "      <td>Air</td>\n",
       "      <td>Route C</td>\n",
       "      <td>141.920282</td>\n",
       "    </tr>\n",
       "    <tr>\n",
       "      <th>3</th>\n",
       "      <td>skincare</td>\n",
       "      <td>SKU3</td>\n",
       "      <td>61.163343</td>\n",
       "      <td>68</td>\n",
       "      <td>83</td>\n",
       "      <td>7766.836426</td>\n",
       "      <td>Non-binary</td>\n",
       "      <td>23</td>\n",
       "      <td>13</td>\n",
       "      <td>59</td>\n",
       "      <td>...</td>\n",
       "      <td>Kolkata</td>\n",
       "      <td>24</td>\n",
       "      <td>937</td>\n",
       "      <td>18</td>\n",
       "      <td>35.624741</td>\n",
       "      <td>Fail</td>\n",
       "      <td>4.746649</td>\n",
       "      <td>Rail</td>\n",
       "      <td>Route A</td>\n",
       "      <td>254.776159</td>\n",
       "    </tr>\n",
       "    <tr>\n",
       "      <th>4</th>\n",
       "      <td>skincare</td>\n",
       "      <td>SKU4</td>\n",
       "      <td>4.805496</td>\n",
       "      <td>26</td>\n",
       "      <td>871</td>\n",
       "      <td>2686.505152</td>\n",
       "      <td>Non-binary</td>\n",
       "      <td>5</td>\n",
       "      <td>3</td>\n",
       "      <td>56</td>\n",
       "      <td>...</td>\n",
       "      <td>Delhi</td>\n",
       "      <td>5</td>\n",
       "      <td>414</td>\n",
       "      <td>3</td>\n",
       "      <td>92.065161</td>\n",
       "      <td>Fail</td>\n",
       "      <td>3.145580</td>\n",
       "      <td>Air</td>\n",
       "      <td>Route A</td>\n",
       "      <td>923.440632</td>\n",
       "    </tr>\n",
       "  </tbody>\n",
       "</table>\n",
       "<p>5 rows × 24 columns</p>\n",
       "</div>"
      ],
      "text/plain": [
       "  Product type   SKU      Price  Availability  Number of products sold  \\\n",
       "0     haircare  SKU0  69.808006            55                      802   \n",
       "1     skincare  SKU1  14.843523            95                      736   \n",
       "2     haircare  SKU2  11.319683            34                        8   \n",
       "3     skincare  SKU3  61.163343            68                       83   \n",
       "4     skincare  SKU4   4.805496            26                      871   \n",
       "\n",
       "   Revenue generated Customer demographics  Stock levels  Lead times  \\\n",
       "0        8661.996792            Non-binary            58           7   \n",
       "1        7460.900065                Female            53          30   \n",
       "2        9577.749626               Unknown             1          10   \n",
       "3        7766.836426            Non-binary            23          13   \n",
       "4        2686.505152            Non-binary             5           3   \n",
       "\n",
       "   Order quantities  ...  Location Lead time  Production volumes  \\\n",
       "0                96  ...    Mumbai        29                 215   \n",
       "1                37  ...    Mumbai        23                 517   \n",
       "2                88  ...    Mumbai        12                 971   \n",
       "3                59  ...   Kolkata        24                 937   \n",
       "4                56  ...     Delhi         5                 414   \n",
       "\n",
       "  Manufacturing lead time Manufacturing costs  Inspection results  \\\n",
       "0                      29           46.279879             Pending   \n",
       "1                      30           33.616769             Pending   \n",
       "2                      27           30.688019             Pending   \n",
       "3                      18           35.624741                Fail   \n",
       "4                       3           92.065161                Fail   \n",
       "\n",
       "   Defect rates  Transportation modes   Routes       Costs  \n",
       "0      0.226410                  Road  Route B  187.752075  \n",
       "1      4.854068                  Road  Route B  503.065579  \n",
       "2      4.580593                   Air  Route C  141.920282  \n",
       "3      4.746649                  Rail  Route A  254.776159  \n",
       "4      3.145580                   Air  Route A  923.440632  \n",
       "\n",
       "[5 rows x 24 columns]"
      ]
     },
     "execution_count": 4,
     "metadata": {},
     "output_type": "execute_result"
    }
   ],
   "source": [
    "data.head(5)"
   ]
  },
  {
   "cell_type": "markdown",
   "id": "4b2dbe8c",
   "metadata": {},
   "source": [
    "## Data Preparation and cleaning"
   ]
  },
  {
   "cell_type": "markdown",
   "id": "2a93f3fe",
   "metadata": {},
   "source": [
    "1. Load the file using pandas\n",
    "2. Look at some infromation about the data & the columns\n",
    "3. Fix any missing or incorrect values"
   ]
  },
  {
   "cell_type": "code",
   "execution_count": 5,
   "id": "8eadf420",
   "metadata": {},
   "outputs": [
    {
     "data": {
      "text/plain": [
       "Index(['Product type', 'SKU', 'Price', 'Availability',\n",
       "       'Number of products sold', 'Revenue generated', 'Customer demographics',\n",
       "       'Stock levels', 'Lead times', 'Order quantities', 'Shipping times',\n",
       "       'Shipping carriers', 'Shipping costs', 'Supplier name', 'Location',\n",
       "       'Lead time', 'Production volumes', 'Manufacturing lead time',\n",
       "       'Manufacturing costs', 'Inspection results', 'Defect rates',\n",
       "       'Transportation modes', 'Routes', 'Costs'],\n",
       "      dtype='object')"
      ]
     },
     "execution_count": 5,
     "metadata": {},
     "output_type": "execute_result"
    }
   ],
   "source": [
    "data.columns"
   ]
  },
  {
   "cell_type": "code",
   "execution_count": 6,
   "id": "37f3c61d",
   "metadata": {},
   "outputs": [
    {
     "data": {
      "text/plain": [
       "(100, 24)"
      ]
     },
     "execution_count": 6,
     "metadata": {},
     "output_type": "execute_result"
    }
   ],
   "source": [
    "data.shape"
   ]
  },
  {
   "cell_type": "code",
   "execution_count": 7,
   "id": "ea72a668",
   "metadata": {},
   "outputs": [
    {
     "data": {
      "text/html": [
       "<div>\n",
       "<style scoped>\n",
       "    .dataframe tbody tr th:only-of-type {\n",
       "        vertical-align: middle;\n",
       "    }\n",
       "\n",
       "    .dataframe tbody tr th {\n",
       "        vertical-align: top;\n",
       "    }\n",
       "\n",
       "    .dataframe thead th {\n",
       "        text-align: right;\n",
       "    }\n",
       "</style>\n",
       "<table border=\"1\" class=\"dataframe\">\n",
       "  <thead>\n",
       "    <tr style=\"text-align: right;\">\n",
       "      <th></th>\n",
       "      <th>Price</th>\n",
       "      <th>Number of products sold</th>\n",
       "      <th>Order quantities</th>\n",
       "    </tr>\n",
       "  </thead>\n",
       "  <tbody>\n",
       "    <tr>\n",
       "      <th>count</th>\n",
       "      <td>100.00</td>\n",
       "      <td>100.00</td>\n",
       "      <td>100.00</td>\n",
       "    </tr>\n",
       "    <tr>\n",
       "      <th>mean</th>\n",
       "      <td>49.46</td>\n",
       "      <td>460.99</td>\n",
       "      <td>49.22</td>\n",
       "    </tr>\n",
       "    <tr>\n",
       "      <th>std</th>\n",
       "      <td>31.17</td>\n",
       "      <td>303.78</td>\n",
       "      <td>26.78</td>\n",
       "    </tr>\n",
       "    <tr>\n",
       "      <th>min</th>\n",
       "      <td>1.70</td>\n",
       "      <td>8.00</td>\n",
       "      <td>1.00</td>\n",
       "    </tr>\n",
       "    <tr>\n",
       "      <th>25%</th>\n",
       "      <td>19.60</td>\n",
       "      <td>184.25</td>\n",
       "      <td>26.00</td>\n",
       "    </tr>\n",
       "    <tr>\n",
       "      <th>50%</th>\n",
       "      <td>51.24</td>\n",
       "      <td>392.50</td>\n",
       "      <td>52.00</td>\n",
       "    </tr>\n",
       "    <tr>\n",
       "      <th>75%</th>\n",
       "      <td>77.20</td>\n",
       "      <td>704.25</td>\n",
       "      <td>71.25</td>\n",
       "    </tr>\n",
       "    <tr>\n",
       "      <th>max</th>\n",
       "      <td>99.17</td>\n",
       "      <td>996.00</td>\n",
       "      <td>96.00</td>\n",
       "    </tr>\n",
       "  </tbody>\n",
       "</table>\n",
       "</div>"
      ],
      "text/plain": [
       "        Price  Number of products sold  Order quantities\n",
       "count  100.00                   100.00            100.00\n",
       "mean    49.46                   460.99             49.22\n",
       "std     31.17                   303.78             26.78\n",
       "min      1.70                     8.00              1.00\n",
       "25%     19.60                   184.25             26.00\n",
       "50%     51.24                   392.50             52.00\n",
       "75%     77.20                   704.25             71.25\n",
       "max     99.17                   996.00             96.00"
      ]
     },
     "execution_count": 7,
     "metadata": {},
     "output_type": "execute_result"
    }
   ],
   "source": [
    "data_test = data[['Price','Number of products sold','Order quantities']].describe()\n",
    "data_test.round(2)"
   ]
  },
  {
   "cell_type": "code",
   "execution_count": 8,
   "id": "9c7d1c1f",
   "metadata": {},
   "outputs": [
    {
     "name": "stdout",
     "output_type": "stream",
     "text": [
      "<class 'pandas.core.frame.DataFrame'>\n",
      "RangeIndex: 100 entries, 0 to 99\n",
      "Data columns (total 24 columns):\n",
      " #   Column                   Non-Null Count  Dtype  \n",
      "---  ------                   --------------  -----  \n",
      " 0   Product type             100 non-null    object \n",
      " 1   SKU                      100 non-null    object \n",
      " 2   Price                    100 non-null    float64\n",
      " 3   Availability             100 non-null    int64  \n",
      " 4   Number of products sold  100 non-null    int64  \n",
      " 5   Revenue generated        100 non-null    float64\n",
      " 6   Customer demographics    100 non-null    object \n",
      " 7   Stock levels             100 non-null    int64  \n",
      " 8   Lead times               100 non-null    int64  \n",
      " 9   Order quantities         100 non-null    int64  \n",
      " 10  Shipping times           100 non-null    int64  \n",
      " 11  Shipping carriers        100 non-null    object \n",
      " 12  Shipping costs           100 non-null    float64\n",
      " 13  Supplier name            100 non-null    object \n",
      " 14  Location                 100 non-null    object \n",
      " 15  Lead time                100 non-null    int64  \n",
      " 16  Production volumes       100 non-null    int64  \n",
      " 17  Manufacturing lead time  100 non-null    int64  \n",
      " 18  Manufacturing costs      100 non-null    float64\n",
      " 19  Inspection results       100 non-null    object \n",
      " 20  Defect rates             100 non-null    float64\n",
      " 21  Transportation modes     100 non-null    object \n",
      " 22  Routes                   100 non-null    object \n",
      " 23  Costs                    100 non-null    float64\n",
      "dtypes: float64(6), int64(9), object(9)\n",
      "memory usage: 18.9+ KB\n"
     ]
    }
   ],
   "source": [
    "data.info()"
   ]
  },
  {
   "cell_type": "markdown",
   "id": "04922e51",
   "metadata": {},
   "source": [
    "## Checking Missing and Duplicate values"
   ]
  },
  {
   "cell_type": "code",
   "execution_count": 9,
   "id": "1bd9dbf5",
   "metadata": {},
   "outputs": [
    {
     "data": {
      "text/plain": [
       "Product type               0\n",
       "SKU                        0\n",
       "Price                      0\n",
       "Availability               0\n",
       "Number of products sold    0\n",
       "Revenue generated          0\n",
       "Customer demographics      0\n",
       "Stock levels               0\n",
       "Lead times                 0\n",
       "Order quantities           0\n",
       "Shipping times             0\n",
       "Shipping carriers          0\n",
       "Shipping costs             0\n",
       "Supplier name              0\n",
       "Location                   0\n",
       "Lead time                  0\n",
       "Production volumes         0\n",
       "Manufacturing lead time    0\n",
       "Manufacturing costs        0\n",
       "Inspection results         0\n",
       "Defect rates               0\n",
       "Transportation modes       0\n",
       "Routes                     0\n",
       "Costs                      0\n",
       "dtype: int64"
      ]
     },
     "execution_count": 9,
     "metadata": {},
     "output_type": "execute_result"
    }
   ],
   "source": [
    "data.isnull().sum()"
   ]
  },
  {
   "cell_type": "code",
   "execution_count": 10,
   "id": "a9762a0a",
   "metadata": {},
   "outputs": [
    {
     "data": {
      "text/plain": [
       "0"
      ]
     },
     "execution_count": 10,
     "metadata": {},
     "output_type": "execute_result"
    }
   ],
   "source": [
    "#Checking Duplicate Values\n",
    "len(data[data.duplicated()])"
   ]
  },
  {
   "cell_type": "code",
   "execution_count": 11,
   "id": "1c713e72",
   "metadata": {},
   "outputs": [
    {
     "data": {
      "text/plain": [
       "Product type                 3\n",
       "SKU                        100\n",
       "Price                      100\n",
       "Availability                63\n",
       "Number of products sold     96\n",
       "Revenue generated          100\n",
       "Customer demographics        4\n",
       "Stock levels                65\n",
       "Lead times                  29\n",
       "Order quantities            61\n",
       "Shipping times              10\n",
       "Shipping carriers            3\n",
       "Shipping costs             100\n",
       "Supplier name                5\n",
       "Location                     5\n",
       "Lead time                   29\n",
       "Production volumes          96\n",
       "Manufacturing lead time     30\n",
       "Manufacturing costs        100\n",
       "Inspection results           3\n",
       "Defect rates               100\n",
       "Transportation modes         4\n",
       "Routes                       3\n",
       "Costs                      100\n",
       "dtype: int64"
      ]
     },
     "execution_count": 11,
     "metadata": {},
     "output_type": "execute_result"
    }
   ],
   "source": [
    "#unique values for each column\n",
    "data.nunique()"
   ]
  },
  {
   "cell_type": "markdown",
   "id": "8f282a3f",
   "metadata": {},
   "source": [
    "## Data Visualisation"
   ]
  },
  {
   "cell_type": "markdown",
   "id": "b16405d0",
   "metadata": {},
   "source": [
    "### Sales Analysis\n",
    "1. Analyze number of products sold and revenue generated to understand sales performance over time.\n",
    "2. Identify customer demographics to determine which groups are purchasing the most products.\n",
    "3. Track availability and stock levels to ensure the right products are in stock when customers are ready to buy."
   ]
  },
  {
   "cell_type": "code",
   "execution_count": 12,
   "id": "5388f5e5",
   "metadata": {
    "scrolled": true
   },
   "outputs": [],
   "source": [
    "product_sold = data.groupby(['Product type'])[['Number of products sold', 'Revenue generated']].sum().reset_index()\n",
    "data['Revenue generated'] = data['Revenue generated'].round(2)"
   ]
  },
  {
   "cell_type": "code",
   "execution_count": 13,
   "id": "1dcd54dc",
   "metadata": {},
   "outputs": [
    {
     "data": {
      "text/html": [
       "<div>\n",
       "<style scoped>\n",
       "    .dataframe tbody tr th:only-of-type {\n",
       "        vertical-align: middle;\n",
       "    }\n",
       "\n",
       "    .dataframe tbody tr th {\n",
       "        vertical-align: top;\n",
       "    }\n",
       "\n",
       "    .dataframe thead th {\n",
       "        text-align: right;\n",
       "    }\n",
       "</style>\n",
       "<table border=\"1\" class=\"dataframe\">\n",
       "  <thead>\n",
       "    <tr style=\"text-align: right;\">\n",
       "      <th></th>\n",
       "      <th>Product type</th>\n",
       "      <th>Number of products sold</th>\n",
       "      <th>Revenue generated</th>\n",
       "    </tr>\n",
       "  </thead>\n",
       "  <tbody>\n",
       "    <tr>\n",
       "      <th>0</th>\n",
       "      <td>cosmetics</td>\n",
       "      <td>11757</td>\n",
       "      <td>161521.265999</td>\n",
       "    </tr>\n",
       "    <tr>\n",
       "      <th>1</th>\n",
       "      <td>haircare</td>\n",
       "      <td>13611</td>\n",
       "      <td>174455.390605</td>\n",
       "    </tr>\n",
       "    <tr>\n",
       "      <th>2</th>\n",
       "      <td>skincare</td>\n",
       "      <td>20731</td>\n",
       "      <td>241628.162133</td>\n",
       "    </tr>\n",
       "  </tbody>\n",
       "</table>\n",
       "</div>"
      ],
      "text/plain": [
       "  Product type  Number of products sold  Revenue generated\n",
       "0    cosmetics                    11757      161521.265999\n",
       "1     haircare                    13611      174455.390605\n",
       "2     skincare                    20731      241628.162133"
      ]
     },
     "execution_count": 13,
     "metadata": {},
     "output_type": "execute_result"
    }
   ],
   "source": [
    "product_sold"
   ]
  },
  {
   "cell_type": "code",
   "execution_count": 14,
   "id": "48584065",
   "metadata": {},
   "outputs": [
    {
     "data": {
      "image/png": "[encoded data removed]",
      "text/plain": [
       "<Figure size 800x800 with 1 Axes>"
      ]
     },
     "metadata": {},
     "output_type": "display_data"
    }
   ],
   "source": [
    "plt.figure(figsize = (8,8))\n",
    "colors = ['#FFB90F', '#008000', '#800080']\n",
    "pie_chart = plt.pie(product_sold['Number of products sold'], labels = product_sold['Product type'], autopct = '%.2f%%',wedgeprops={'linewidth': 2.0, 'edgecolor': 'white'},\n",
    "       textprops={'size': 'x-large'}, shadow =True, colors = colors)\n",
    "plt.title('Percent of product Sold by Product Type', fontsize= 15)\n",
    "plt.show()"
   ]
  },
  {
   "cell_type": "code",
   "execution_count": 15,
   "id": "5e3b45b2",
   "metadata": {},
   "outputs": [
    {
     "data": {
      "image/png": "[encoded data removed]",
      "text/plain": [
       "<Figure size 800x600 with 1 Axes>"
      ]
     },
     "metadata": {},
     "output_type": "display_data"
    }
   ],
   "source": [
    "plt.figure(figsize = (8,6))\n",
    "plt.bar(x = product_sold['Product type'], height = product_sold[\"Revenue generated\"],color = 'blue')\n",
    "plt.title(\"Revenue generated vs. Product type\", fontsize = (12))\n",
    "plt.xlabel(\"Product Type \")\n",
    "plt.ylabel(\"Revenue generated\")\n",
    "plt.show()"
   ]
  },
  {
   "cell_type": "markdown",
   "id": "efa3276e",
   "metadata": {},
   "source": [
    "##### So, the highest number of products sold are skincare products .\n",
    "##### 45% of business comes from skincare, 29% from haircare, and 25% from cosmetics .\n",
    "##### Most of the revenue comes from skincare products, followed by haircare, and then cosmetics products."
   ]
  },
  {
   "cell_type": "code",
   "execution_count": 16,
   "id": "668a3e0d",
   "metadata": {},
   "outputs": [
    {
     "data": {
      "text/plain": [
       "array(['Non-binary', 'Female', 'Unknown', 'Male'], dtype=object)"
      ]
     },
     "execution_count": 16,
     "metadata": {},
     "output_type": "execute_result"
    }
   ],
   "source": [
    "data['Customer demographics'].unique()"
   ]
  },
  {
   "cell_type": "code",
   "execution_count": 17,
   "id": "7b0688de",
   "metadata": {},
   "outputs": [],
   "source": [
    "demographics = data.groupby(['Customer demographics', 'Product type'])['Number of products sold'].sum().reset_index()"
   ]
  },
  {
   "cell_type": "code",
   "execution_count": 18,
   "id": "7595e9ad",
   "metadata": {},
   "outputs": [
    {
     "data": {
      "text/html": [
       "<div>\n",
       "<style scoped>\n",
       "    .dataframe tbody tr th:only-of-type {\n",
       "        vertical-align: middle;\n",
       "    }\n",
       "\n",
       "    .dataframe tbody tr th {\n",
       "        vertical-align: top;\n",
       "    }\n",
       "\n",
       "    .dataframe thead th {\n",
       "        text-align: right;\n",
       "    }\n",
       "</style>\n",
       "<table border=\"1\" class=\"dataframe\">\n",
       "  <thead>\n",
       "    <tr style=\"text-align: right;\">\n",
       "      <th></th>\n",
       "      <th>Customer demographics</th>\n",
       "      <th>Product type</th>\n",
       "      <th>Number of products sold</th>\n",
       "    </tr>\n",
       "  </thead>\n",
       "  <tbody>\n",
       "    <tr>\n",
       "      <th>0</th>\n",
       "      <td>Female</td>\n",
       "      <td>cosmetics</td>\n",
       "      <td>4012</td>\n",
       "    </tr>\n",
       "    <tr>\n",
       "      <th>1</th>\n",
       "      <td>Female</td>\n",
       "      <td>haircare</td>\n",
       "      <td>936</td>\n",
       "    </tr>\n",
       "    <tr>\n",
       "      <th>2</th>\n",
       "      <td>Female</td>\n",
       "      <td>skincare</td>\n",
       "      <td>7853</td>\n",
       "    </tr>\n",
       "    <tr>\n",
       "      <th>3</th>\n",
       "      <td>Male</td>\n",
       "      <td>cosmetics</td>\n",
       "      <td>2304</td>\n",
       "    </tr>\n",
       "    <tr>\n",
       "      <th>4</th>\n",
       "      <td>Male</td>\n",
       "      <td>haircare</td>\n",
       "      <td>2292</td>\n",
       "    </tr>\n",
       "    <tr>\n",
       "      <th>5</th>\n",
       "      <td>Male</td>\n",
       "      <td>skincare</td>\n",
       "      <td>2911</td>\n",
       "    </tr>\n",
       "    <tr>\n",
       "      <th>6</th>\n",
       "      <td>Non-binary</td>\n",
       "      <td>cosmetics</td>\n",
       "      <td>2607</td>\n",
       "    </tr>\n",
       "    <tr>\n",
       "      <th>7</th>\n",
       "      <td>Non-binary</td>\n",
       "      <td>haircare</td>\n",
       "      <td>2820</td>\n",
       "    </tr>\n",
       "    <tr>\n",
       "      <th>8</th>\n",
       "      <td>Non-binary</td>\n",
       "      <td>skincare</td>\n",
       "      <td>5153</td>\n",
       "    </tr>\n",
       "    <tr>\n",
       "      <th>9</th>\n",
       "      <td>Unknown</td>\n",
       "      <td>cosmetics</td>\n",
       "      <td>2834</td>\n",
       "    </tr>\n",
       "    <tr>\n",
       "      <th>10</th>\n",
       "      <td>Unknown</td>\n",
       "      <td>haircare</td>\n",
       "      <td>7563</td>\n",
       "    </tr>\n",
       "    <tr>\n",
       "      <th>11</th>\n",
       "      <td>Unknown</td>\n",
       "      <td>skincare</td>\n",
       "      <td>4814</td>\n",
       "    </tr>\n",
       "  </tbody>\n",
       "</table>\n",
       "</div>"
      ],
      "text/plain": [
       "   Customer demographics Product type  Number of products sold\n",
       "0                 Female    cosmetics                     4012\n",
       "1                 Female     haircare                      936\n",
       "2                 Female     skincare                     7853\n",
       "3                   Male    cosmetics                     2304\n",
       "4                   Male     haircare                     2292\n",
       "5                   Male     skincare                     2911\n",
       "6             Non-binary    cosmetics                     2607\n",
       "7             Non-binary     haircare                     2820\n",
       "8             Non-binary     skincare                     5153\n",
       "9                Unknown    cosmetics                     2834\n",
       "10               Unknown     haircare                     7563\n",
       "11               Unknown     skincare                     4814"
      ]
     },
     "execution_count": 18,
     "metadata": {},
     "output_type": "execute_result"
    }
   ],
   "source": [
    "demographics"
   ]
  },
  {
   "cell_type": "code",
   "execution_count": 19,
   "id": "50645889",
   "metadata": {},
   "outputs": [
    {
     "data": {
      "image/png": "[encoded data removed]",
      "text/plain": [
       "<Figure size 800x600 with 1 Axes>"
      ]
     },
     "metadata": {},
     "output_type": "display_data"
    }
   ],
   "source": [
    "plt.figure(figsize = (8,6))\n",
    "p = sns.barplot(x = demographics['Customer demographics'], y = demographics['Number of products sold'], hue = demographics['Product type'], palette = 'PuBu')\n",
    "for container in p.containers:\n",
    "    p.bar_label(container,padding= -30, color='white', fontsize=10)\n",
    "plt.title(\"Customer Demographics vs No.of product sold by Product Type\", fontsize = (14))\n",
    "plt.show()"
   ]
  },
  {
   "cell_type": "markdown",
   "id": "691097d1",
   "metadata": {},
   "source": [
    "##### According to the graph, the female group purchases More skincare and cosmetic products , whereas the male group purchases all three products in the same manner and the unknown group category purchases more number of haircare products\n",
    "\n",
    "##### Skin care products are the most popular among all four types of customers . So , Skincare products have a higher demand."
   ]
  },
  {
   "cell_type": "code",
   "execution_count": 20,
   "id": "d119fe1d",
   "metadata": {},
   "outputs": [],
   "source": [
    "stock = data.groupby(['Product type'])[['Stock levels','Availability']].sum().reset_index()"
   ]
  },
  {
   "cell_type": "code",
   "execution_count": 21,
   "id": "c84e1c85",
   "metadata": {},
   "outputs": [
    {
     "data": {
      "text/html": [
       "<div>\n",
       "<style scoped>\n",
       "    .dataframe tbody tr th:only-of-type {\n",
       "        vertical-align: middle;\n",
       "    }\n",
       "\n",
       "    .dataframe tbody tr th {\n",
       "        vertical-align: top;\n",
       "    }\n",
       "\n",
       "    .dataframe thead th {\n",
       "        text-align: right;\n",
       "    }\n",
       "</style>\n",
       "<table border=\"1\" class=\"dataframe\">\n",
       "  <thead>\n",
       "    <tr style=\"text-align: right;\">\n",
       "      <th></th>\n",
       "      <th>Product type</th>\n",
       "      <th>Stock levels</th>\n",
       "      <th>Availability</th>\n",
       "    </tr>\n",
       "  </thead>\n",
       "  <tbody>\n",
       "    <tr>\n",
       "      <th>0</th>\n",
       "      <td>cosmetics</td>\n",
       "      <td>1525</td>\n",
       "      <td>1332</td>\n",
       "    </tr>\n",
       "    <tr>\n",
       "      <th>1</th>\n",
       "      <td>haircare</td>\n",
       "      <td>1644</td>\n",
       "      <td>1471</td>\n",
       "    </tr>\n",
       "    <tr>\n",
       "      <th>2</th>\n",
       "      <td>skincare</td>\n",
       "      <td>1608</td>\n",
       "      <td>2037</td>\n",
       "    </tr>\n",
       "  </tbody>\n",
       "</table>\n",
       "</div>"
      ],
      "text/plain": [
       "  Product type  Stock levels  Availability\n",
       "0    cosmetics          1525          1332\n",
       "1     haircare          1644          1471\n",
       "2     skincare          1608          2037"
      ]
     },
     "execution_count": 21,
     "metadata": {},
     "output_type": "execute_result"
    }
   ],
   "source": [
    "stock"
   ]
  },
  {
   "cell_type": "code",
   "execution_count": 22,
   "id": "f5e6d957",
   "metadata": {},
   "outputs": [
    {
     "data": {
      "image/png": "[encoded data removed]",
      "text/plain": [
       "<Figure size 600x600 with 1 Axes>"
      ]
     },
     "metadata": {},
     "output_type": "display_data"
    }
   ],
   "source": [
    "plt.figure(figsize=(6,6))\n",
    "sns.barplot(x='Product type', y='Stock levels', data=stock, color='purple', label='Stock levels')\n",
    "sns.barplot(x='Product type', y='Availability', data=stock, color='green', label='Availability', bottom=stock['Stock levels'])\n",
    "plt.title(\"Availability and Stock levels of Product Type\", fontsize=14)\n",
    "plt.show()"
   ]
  },
  {
   "cell_type": "markdown",
   "id": "a6c41027",
   "metadata": {},
   "source": [
    "####  skincare has a negative availability (1608 stocked units but 2037 are currently required), meaning an additional 429 units are in demand but not in stock. This suggests very high demand for skincare products.\n",
    "#### Prioritize restocking skincare to meet the unmet demand and avoid losing customers.\n",
    "#### Consider reducing the cosmetics and haircare stock to optimize inventory costs and free up capital for higher-demand products."
   ]
  },
  {
   "cell_type": "markdown",
   "id": "f0f42aad",
   "metadata": {},
   "source": [
    "## Operations Analysis:\n",
    "\n",
    "1. Analyze lead times, order quantities, and production volumes to optimize inventory management and reduce stockouts.\n",
    "2. Track manufacturing lead time and costs to identify areas for improvement and cost savings.\n",
    "3. Monitor inspection results and defect rates to identify quality issues and improve manufacturing processes."
   ]
  },
  {
   "cell_type": "code",
   "execution_count": 23,
   "id": "3ef3530f",
   "metadata": {},
   "outputs": [
    {
     "data": {
      "text/plain": [
       "Index(['Product type', 'SKU', 'Price', 'Availability',\n",
       "       'Number of products sold', 'Revenue generated', 'Customer demographics',\n",
       "       'Stock levels', 'Lead times', 'Order quantities', 'Shipping times',\n",
       "       'Shipping carriers', 'Shipping costs', 'Supplier name', 'Location',\n",
       "       'Lead time', 'Production volumes', 'Manufacturing lead time',\n",
       "       'Manufacturing costs', 'Inspection results', 'Defect rates',\n",
       "       'Transportation modes', 'Routes', 'Costs'],\n",
       "      dtype='object')"
      ]
     },
     "execution_count": 23,
     "metadata": {},
     "output_type": "execute_result"
    }
   ],
   "source": [
    "data.columns"
   ]
  },
  {
   "cell_type": "code",
   "execution_count": 25,
   "id": "0667962a",
   "metadata": {},
   "outputs": [],
   "source": [
    "product = data.groupby(['Product type'])[['Lead time', 'Order quantities', 'Production volumes']].mean().reset_index()\n",
    "product['Order quantities'] = product['Order quantities'].round(2)\n",
    "product['Lead time'] = product['Lead time'].round(2)\n",
    "product['Production volumes'] = product['Production volumes'].round(2)"
   ]
  },
  {
   "cell_type": "code",
   "execution_count": 27,
   "id": "f376c7ad",
   "metadata": {
    "scrolled": true
   },
   "outputs": [
    {
     "data": {
      "text/html": [
       "<div>\n",
       "<style scoped>\n",
       "    .dataframe tbody tr th:only-of-type {\n",
       "        vertical-align: middle;\n",
       "    }\n",
       "\n",
       "    .dataframe tbody tr th {\n",
       "        vertical-align: top;\n",
       "    }\n",
       "\n",
       "    .dataframe thead th {\n",
       "        text-align: right;\n",
       "    }\n",
       "</style>\n",
       "<table border=\"1\" class=\"dataframe\">\n",
       "  <thead>\n",
       "    <tr style=\"text-align: right;\">\n",
       "      <th></th>\n",
       "      <th>Product type</th>\n",
       "      <th>Lead time</th>\n",
       "      <th>Order quantities</th>\n",
       "      <th>Production volumes</th>\n",
       "    </tr>\n",
       "  </thead>\n",
       "  <tbody>\n",
       "    <tr>\n",
       "      <th>0</th>\n",
       "      <td>cosmetics</td>\n",
       "      <td>13.54</td>\n",
       "      <td>51.65</td>\n",
       "      <td>479.27</td>\n",
       "    </tr>\n",
       "    <tr>\n",
       "      <th>1</th>\n",
       "      <td>haircare</td>\n",
       "      <td>18.71</td>\n",
       "      <td>43.53</td>\n",
       "      <td>586.97</td>\n",
       "    </tr>\n",
       "    <tr>\n",
       "      <th>2</th>\n",
       "      <td>skincare</td>\n",
       "      <td>18.00</td>\n",
       "      <td>52.48</td>\n",
       "      <td>609.15</td>\n",
       "    </tr>\n",
       "  </tbody>\n",
       "</table>\n",
       "</div>"
      ],
      "text/plain": [
       "  Product type  Lead time  Order quantities  Production volumes\n",
       "0    cosmetics      13.54             51.65              479.27\n",
       "1     haircare      18.71             43.53              586.97\n",
       "2     skincare      18.00             52.48              609.15"
      ]
     },
     "execution_count": 27,
     "metadata": {},
     "output_type": "execute_result"
    }
   ],
   "source": [
    "product"
   ]
  },
  {
   "cell_type": "markdown",
   "id": "15a21971",
   "metadata": {},
   "source": [
    "#### For skincare and haircare, reducing lead times could be a key opportunity for improving responsiveness and ensuring the ability to meet future demand more flexibly.\n",
    "#### Skincare is the most in-demand product based on order quantities and production volumes. Ensure that you have sufficient stock and consider Reducing the Lead time .\n",
    "#### Haircare has long lead times but good production volumes. Focus on improving supplier efficiency and boosting demand through marketing efforts."
   ]
  },
  {
   "cell_type": "code",
   "execution_count": 31,
   "id": "5301b9c8",
   "metadata": {},
   "outputs": [],
   "source": [
    "rate = data.groupby(['Product type', 'Inspection results'])['Defect rates'].mean().reset_index()\n",
    "rate['Defect rates'] = rate['Defect rates'].round(2)"
   ]
  },
  {
   "cell_type": "code",
   "execution_count": 76,
   "id": "51ce9a09",
   "metadata": {},
   "outputs": [
    {
     "data": {
      "text/html": [
       "<div>\n",
       "<style scoped>\n",
       "    .dataframe tbody tr th:only-of-type {\n",
       "        vertical-align: middle;\n",
       "    }\n",
       "\n",
       "    .dataframe tbody tr th {\n",
       "        vertical-align: top;\n",
       "    }\n",
       "\n",
       "    .dataframe thead th {\n",
       "        text-align: right;\n",
       "    }\n",
       "</style>\n",
       "<table border=\"1\" class=\"dataframe\">\n",
       "  <thead>\n",
       "    <tr style=\"text-align: right;\">\n",
       "      <th></th>\n",
       "      <th>Product type</th>\n",
       "      <th>Inspection results</th>\n",
       "      <th>Defect rates</th>\n",
       "    </tr>\n",
       "  </thead>\n",
       "  <tbody>\n",
       "    <tr>\n",
       "      <th>0</th>\n",
       "      <td>cosmetics</td>\n",
       "      <td>Fail</td>\n",
       "      <td>2.19</td>\n",
       "    </tr>\n",
       "    <tr>\n",
       "      <th>1</th>\n",
       "      <td>cosmetics</td>\n",
       "      <td>Pass</td>\n",
       "      <td>1.82</td>\n",
       "    </tr>\n",
       "    <tr>\n",
       "      <th>2</th>\n",
       "      <td>cosmetics</td>\n",
       "      <td>Pending</td>\n",
       "      <td>1.71</td>\n",
       "    </tr>\n",
       "    <tr>\n",
       "      <th>3</th>\n",
       "      <td>haircare</td>\n",
       "      <td>Fail</td>\n",
       "      <td>2.53</td>\n",
       "    </tr>\n",
       "    <tr>\n",
       "      <th>4</th>\n",
       "      <td>haircare</td>\n",
       "      <td>Pass</td>\n",
       "      <td>2.92</td>\n",
       "    </tr>\n",
       "    <tr>\n",
       "      <th>5</th>\n",
       "      <td>haircare</td>\n",
       "      <td>Pending</td>\n",
       "      <td>2.27</td>\n",
       "    </tr>\n",
       "    <tr>\n",
       "      <th>6</th>\n",
       "      <td>skincare</td>\n",
       "      <td>Fail</td>\n",
       "      <td>2.90</td>\n",
       "    </tr>\n",
       "    <tr>\n",
       "      <th>7</th>\n",
       "      <td>skincare</td>\n",
       "      <td>Pass</td>\n",
       "      <td>1.68</td>\n",
       "    </tr>\n",
       "    <tr>\n",
       "      <th>8</th>\n",
       "      <td>skincare</td>\n",
       "      <td>Pending</td>\n",
       "      <td>2.33</td>\n",
       "    </tr>\n",
       "  </tbody>\n",
       "</table>\n",
       "</div>"
      ],
      "text/plain": [
       "  Product type Inspection results  Defect rates\n",
       "0    cosmetics               Fail          2.19\n",
       "1    cosmetics               Pass          1.82\n",
       "2    cosmetics            Pending          1.71\n",
       "3     haircare               Fail          2.53\n",
       "4     haircare               Pass          2.92\n",
       "5     haircare            Pending          2.27\n",
       "6     skincare               Fail          2.90\n",
       "7     skincare               Pass          1.68\n",
       "8     skincare            Pending          2.33"
      ]
     },
     "execution_count": 76,
     "metadata": {},
     "output_type": "execute_result"
    }
   ],
   "source": [
    "rate"
   ]
  },
  {
   "cell_type": "code",
   "execution_count": 32,
   "id": "68a0afbe",
   "metadata": {},
   "outputs": [
    {
     "data": {
      "text/plain": [
       "2.27715799273961"
      ]
     },
     "execution_count": 32,
     "metadata": {},
     "output_type": "execute_result"
    }
   ],
   "source": [
    "data['Defect rates'].mean()"
   ]
  },
  {
   "cell_type": "code",
   "execution_count": 33,
   "id": "b5a6add7",
   "metadata": {},
   "outputs": [
    {
     "data": {
      "text/plain": [
       "4.939255288620948"
      ]
     },
     "execution_count": 33,
     "metadata": {},
     "output_type": "execute_result"
    }
   ],
   "source": [
    "data['Defect rates'].max()"
   ]
  },
  {
   "cell_type": "code",
   "execution_count": 34,
   "id": "9114bc57",
   "metadata": {},
   "outputs": [
    {
     "data": {
      "text/plain": [
       "0.0186075676310149"
      ]
     },
     "execution_count": 34,
     "metadata": {},
     "output_type": "execute_result"
    }
   ],
   "source": [
    "data['Defect rates'].min()"
   ]
  },
  {
   "cell_type": "code",
   "execution_count": 36,
   "id": "12129486",
   "metadata": {},
   "outputs": [
    {
     "data": {
      "image/png": "[encoded data removed]",
      "text/plain": [
       "<Figure size 800x800 with 1 Axes>"
      ]
     },
     "metadata": {},
     "output_type": "display_data"
    }
   ],
   "source": [
    "plt.figure(figsize = (8,8))\n",
    "p = sns.barplot(x = rate['Product type'], y = rate['Defect rates'], hue = rate['Inspection results'], palette = 'gist_earth')\n",
    "for container in p.containers:\n",
    "    p.bar_label(container,padding=-40, color='white', fontsize=10)\n",
    "    \n",
    "plt.title(\"Inspection results Vs Defect rates by Product type\", fontsize = (15))\n",
    "plt.show()"
   ]
  },
  {
   "cell_type": "markdown",
   "id": "8d58d979",
   "metadata": {},
   "source": [
    "#### Cosmetics products seem to have some quality issues, as the defect rates for failed and passed inspections are relatively close. Focus on quality improvement in the cosmetics line could help reduce defect rates and improve overall product performance.\n",
    "#### The fact that passed haircare products have a higher defect rate than failed ones indicates an anomaly in the inspection process. This could be due to inconsistent quality checks or leniency in passing products that should have been flagged for defects. A thorough review of the inspection criteria for haircare products is needed.\n",
    "#### "
   ]
  },
  {
   "cell_type": "markdown",
   "id": "3ed8f4ae",
   "metadata": {
    "jp-MarkdownHeadingCollapsed": true
   },
   "source": [
    "## Shipping Analysis:\n",
    "\n",
    "1. Analyze costs, transportation modes, and routes to optimize logistics and reduce shipping costs.\n",
    "2. Monitor shipping times, shipping carriers, modes of transportation to ensure timely delivery to customers.\n",
    "3. Track shipping costs associated with shipping carriers and revenue generated to identify areas for cost savings"
   ]
  },
  {
   "cell_type": "code",
   "execution_count": 28,
   "id": "495fd960",
   "metadata": {},
   "outputs": [],
   "source": [
    "shipping = data.groupby(['Shipping carriers'])['Shipping costs'].sum().reset_index()"
   ]
  },
  {
   "cell_type": "code",
   "execution_count": 29,
   "id": "fd166a32",
   "metadata": {},
   "outputs": [
    {
     "data": {
      "text/html": [
       "<div>\n",
       "<style scoped>\n",
       "    .dataframe tbody tr th:only-of-type {\n",
       "        vertical-align: middle;\n",
       "    }\n",
       "\n",
       "    .dataframe tbody tr th {\n",
       "        vertical-align: top;\n",
       "    }\n",
       "\n",
       "    .dataframe thead th {\n",
       "        text-align: right;\n",
       "    }\n",
       "</style>\n",
       "<table border=\"1\" class=\"dataframe\">\n",
       "  <thead>\n",
       "    <tr style=\"text-align: right;\">\n",
       "      <th></th>\n",
       "      <th>Shipping carriers</th>\n",
       "      <th>Shipping costs</th>\n",
       "    </tr>\n",
       "  </thead>\n",
       "  <tbody>\n",
       "    <tr>\n",
       "      <th>0</th>\n",
       "      <td>Carrier A</td>\n",
       "      <td>155.537831</td>\n",
       "    </tr>\n",
       "    <tr>\n",
       "      <th>1</th>\n",
       "      <td>Carrier B</td>\n",
       "      <td>236.897620</td>\n",
       "    </tr>\n",
       "    <tr>\n",
       "      <th>2</th>\n",
       "      <td>Carrier C</td>\n",
       "      <td>162.379457</td>\n",
       "    </tr>\n",
       "  </tbody>\n",
       "</table>\n",
       "</div>"
      ],
      "text/plain": [
       "  Shipping carriers  Shipping costs\n",
       "0         Carrier A      155.537831\n",
       "1         Carrier B      236.897620\n",
       "2         Carrier C      162.379457"
      ]
     },
     "execution_count": 29,
     "metadata": {},
     "output_type": "execute_result"
    }
   ],
   "source": [
    "shipping"
   ]
  },
  {
   "cell_type": "code",
   "execution_count": 105,
   "id": "f8fc0328",
   "metadata": {},
   "outputs": [
    {
     "data": {
      "image/png": "[encoded data removed]",
      "text/plain": [
       "<Figure size 864x576 with 1 Axes>"
      ]
     },
     "metadata": {},
     "output_type": "display_data"
    }
   ],
   "source": [
    "plt.figure(figsize = (12,8))\n",
    "colors = ['#40E0D0', '#9FE2BF','#CCCCFF']\n",
    "plt.pie( shipping['Shipping costs'], labels = shipping['Shipping carriers'],autopct = '%.2f%%', wedgeprops={'linewidth': 3.0, 'edgecolor': 'white'},\n",
    "       textprops={'size': 'x-large'}, shadow =True, colors = colors)\n",
    "plt.title('Cost Distribution by Shipping cost', fontsize = (15))\n",
    "plt.show()"
   ]
  },
  {
   "cell_type": "code",
   "execution_count": 35,
   "id": "fec15d4d",
   "metadata": {},
   "outputs": [],
   "source": [
    "carrier_revenue = data.groupby(['Shipping carriers'])['Revenue generated'].sum().reset_index()\n",
    "carrier_revenue['Revenue generated'] = carrier_revenue['Revenue generated'].round(2)"
   ]
  },
  {
   "cell_type": "code",
   "execution_count": 36,
   "id": "fd7d1d16",
   "metadata": {},
   "outputs": [
    {
     "data": {
      "text/html": [
       "<div>\n",
       "<style scoped>\n",
       "    .dataframe tbody tr th:only-of-type {\n",
       "        vertical-align: middle;\n",
       "    }\n",
       "\n",
       "    .dataframe tbody tr th {\n",
       "        vertical-align: top;\n",
       "    }\n",
       "\n",
       "    .dataframe thead th {\n",
       "        text-align: right;\n",
       "    }\n",
       "</style>\n",
       "<table border=\"1\" class=\"dataframe\">\n",
       "  <thead>\n",
       "    <tr style=\"text-align: right;\">\n",
       "      <th></th>\n",
       "      <th>Shipping carriers</th>\n",
       "      <th>Revenue generated</th>\n",
       "    </tr>\n",
       "  </thead>\n",
       "  <tbody>\n",
       "    <tr>\n",
       "      <th>0</th>\n",
       "      <td>Carrier A</td>\n",
       "      <td>142629.99</td>\n",
       "    </tr>\n",
       "    <tr>\n",
       "      <th>1</th>\n",
       "      <td>Carrier B</td>\n",
       "      <td>250094.65</td>\n",
       "    </tr>\n",
       "    <tr>\n",
       "      <th>2</th>\n",
       "      <td>Carrier C</td>\n",
       "      <td>184880.18</td>\n",
       "    </tr>\n",
       "  </tbody>\n",
       "</table>\n",
       "</div>"
      ],
      "text/plain": [
       "  Shipping carriers  Revenue generated\n",
       "0         Carrier A          142629.99\n",
       "1         Carrier B          250094.65\n",
       "2         Carrier C          184880.18"
      ]
     },
     "execution_count": 36,
     "metadata": {},
     "output_type": "execute_result"
    }
   ],
   "source": [
    "carrier_revenue"
   ]
  },
  {
   "cell_type": "code",
   "execution_count": 45,
   "id": "adb3fc3d",
   "metadata": {},
   "outputs": [
    {
     "data": {
      "image/png": "[encoded data removed]",
      "text/plain": [
       "<Figure size 720x432 with 1 Axes>"
      ]
     },
     "metadata": {
      "needs_background": "light"
     },
     "output_type": "display_data"
    }
   ],
   "source": [
    "plt.figure(figsize = (10,6))\n",
    "p = sns.barplot(x = carrier_revenue['Shipping carriers'], y = carrier_revenue['Revenue generated'], palette = 'Wistia_r')\n",
    "for container in p.containers:\n",
    "    p.bar_label(container,padding=-40, color='black', fontsize=10)\n",
    "\n",
    "plt.show()"
   ]
  },
  {
   "cell_type": "markdown",
   "id": "b7cb2399",
   "metadata": {},
   "source": [
    "##### Both the graphs clearly show shipping carrier B is costly as well as generating higher revenue."
   ]
  },
  {
   "cell_type": "code",
   "execution_count": 96,
   "id": "87f6e0cc",
   "metadata": {},
   "outputs": [],
   "source": [
    "transport = data.groupby(['Transportation modes', 'Routes'])['Costs'].sum().reset_index()"
   ]
  },
  {
   "cell_type": "code",
   "execution_count": 97,
   "id": "a490927b",
   "metadata": {},
   "outputs": [
    {
     "data": {
      "text/html": [
       "<div>\n",
       "<style scoped>\n",
       "    .dataframe tbody tr th:only-of-type {\n",
       "        vertical-align: middle;\n",
       "    }\n",
       "\n",
       "    .dataframe tbody tr th {\n",
       "        vertical-align: top;\n",
       "    }\n",
       "\n",
       "    .dataframe thead th {\n",
       "        text-align: right;\n",
       "    }\n",
       "</style>\n",
       "<table border=\"1\" class=\"dataframe\">\n",
       "  <thead>\n",
       "    <tr style=\"text-align: right;\">\n",
       "      <th></th>\n",
       "      <th>Transportation modes</th>\n",
       "      <th>Routes</th>\n",
       "      <th>Costs</th>\n",
       "    </tr>\n",
       "  </thead>\n",
       "  <tbody>\n",
       "    <tr>\n",
       "      <th>0</th>\n",
       "      <td>Air</td>\n",
       "      <td>Route A</td>\n",
       "      <td>5800.887460</td>\n",
       "    </tr>\n",
       "    <tr>\n",
       "      <th>1</th>\n",
       "      <td>Air</td>\n",
       "      <td>Route B</td>\n",
       "      <td>4464.858025</td>\n",
       "    </tr>\n",
       "    <tr>\n",
       "      <th>2</th>\n",
       "      <td>Air</td>\n",
       "      <td>Route C</td>\n",
       "      <td>4338.782012</td>\n",
       "    </tr>\n",
       "    <tr>\n",
       "      <th>3</th>\n",
       "      <td>Rail</td>\n",
       "      <td>Route A</td>\n",
       "      <td>6790.710511</td>\n",
       "    </tr>\n",
       "    <tr>\n",
       "      <th>4</th>\n",
       "      <td>Rail</td>\n",
       "      <td>Route B</td>\n",
       "      <td>7007.410741</td>\n",
       "    </tr>\n",
       "    <tr>\n",
       "      <th>5</th>\n",
       "      <td>Rail</td>\n",
       "      <td>Route C</td>\n",
       "      <td>1370.810306</td>\n",
       "    </tr>\n",
       "    <tr>\n",
       "      <th>6</th>\n",
       "      <td>Road</td>\n",
       "      <td>Route A</td>\n",
       "      <td>5934.412107</td>\n",
       "    </tr>\n",
       "    <tr>\n",
       "      <th>7</th>\n",
       "      <td>Road</td>\n",
       "      <td>Route B</td>\n",
       "      <td>7181.085147</td>\n",
       "    </tr>\n",
       "    <tr>\n",
       "      <th>8</th>\n",
       "      <td>Road</td>\n",
       "      <td>Route C</td>\n",
       "      <td>2932.696386</td>\n",
       "    </tr>\n",
       "    <tr>\n",
       "      <th>9</th>\n",
       "      <td>Sea</td>\n",
       "      <td>Route A</td>\n",
       "      <td>2349.764416</td>\n",
       "    </tr>\n",
       "    <tr>\n",
       "      <th>10</th>\n",
       "      <td>Sea</td>\n",
       "      <td>Route B</td>\n",
       "      <td>3386.030113</td>\n",
       "    </tr>\n",
       "    <tr>\n",
       "      <th>11</th>\n",
       "      <td>Sea</td>\n",
       "      <td>Route C</td>\n",
       "      <td>1367.130992</td>\n",
       "    </tr>\n",
       "  </tbody>\n",
       "</table>\n",
       "</div>"
      ],
      "text/plain": [
       "   Transportation modes   Routes        Costs\n",
       "0                   Air  Route A  5800.887460\n",
       "1                   Air  Route B  4464.858025\n",
       "2                   Air  Route C  4338.782012\n",
       "3                  Rail  Route A  6790.710511\n",
       "4                  Rail  Route B  7007.410741\n",
       "5                  Rail  Route C  1370.810306\n",
       "6                  Road  Route A  5934.412107\n",
       "7                  Road  Route B  7181.085147\n",
       "8                  Road  Route C  2932.696386\n",
       "9                   Sea  Route A  2349.764416\n",
       "10                  Sea  Route B  3386.030113\n",
       "11                  Sea  Route C  1367.130992"
      ]
     },
     "execution_count": 97,
     "metadata": {},
     "output_type": "execute_result"
    }
   ],
   "source": [
    "transport"
   ]
  },
  {
   "cell_type": "code",
   "execution_count": 101,
   "id": "d5b6803e",
   "metadata": {},
   "outputs": [
    {
     "data": {
      "image/png": "[encoded data removed]",
      "text/plain": [
       "<Figure size 864x576 with 1 Axes>"
      ]
     },
     "metadata": {
      "needs_background": "light"
     },
     "output_type": "display_data"
    }
   ],
   "source": [
    "plt.figure(figsize = (12,8))\n",
    "p = sns.barplot(x = transport['Transportation modes'], y = transport['Costs'], hue = transport['Routes'], palette = 'twilight')\n",
    "for container in p.containers:\n",
    "    p.bar_label(container,padding=-40, color='white', fontsize=10)\n",
    "plt.show()"
   ]
  },
  {
   "cell_type": "code",
   "execution_count": 51,
   "id": "3d495d98",
   "metadata": {},
   "outputs": [
    {
     "data": {
      "text/html": [
       "<div>\n",
       "<style scoped>\n",
       "    .dataframe tbody tr th:only-of-type {\n",
       "        vertical-align: middle;\n",
       "    }\n",
       "\n",
       "    .dataframe tbody tr th {\n",
       "        vertical-align: top;\n",
       "    }\n",
       "\n",
       "    .dataframe thead th {\n",
       "        text-align: right;\n",
       "    }\n",
       "</style>\n",
       "<table border=\"1\" class=\"dataframe\">\n",
       "  <thead>\n",
       "    <tr style=\"text-align: right;\">\n",
       "      <th></th>\n",
       "      <th>Shipping carriers</th>\n",
       "      <th>Transportation modes</th>\n",
       "      <th>Shipping times</th>\n",
       "    </tr>\n",
       "  </thead>\n",
       "  <tbody>\n",
       "    <tr>\n",
       "      <th>0</th>\n",
       "      <td>Carrier A</td>\n",
       "      <td>Air</td>\n",
       "      <td>5.60</td>\n",
       "    </tr>\n",
       "    <tr>\n",
       "      <th>1</th>\n",
       "      <td>Carrier A</td>\n",
       "      <td>Rail</td>\n",
       "      <td>7.43</td>\n",
       "    </tr>\n",
       "    <tr>\n",
       "      <th>2</th>\n",
       "      <td>Carrier A</td>\n",
       "      <td>Road</td>\n",
       "      <td>5.18</td>\n",
       "    </tr>\n",
       "    <tr>\n",
       "      <th>3</th>\n",
       "      <td>Carrier A</td>\n",
       "      <td>Sea</td>\n",
       "      <td>7.00</td>\n",
       "    </tr>\n",
       "    <tr>\n",
       "      <th>4</th>\n",
       "      <td>Carrier B</td>\n",
       "      <td>Air</td>\n",
       "      <td>4.21</td>\n",
       "    </tr>\n",
       "    <tr>\n",
       "      <th>5</th>\n",
       "      <td>Carrier B</td>\n",
       "      <td>Rail</td>\n",
       "      <td>6.33</td>\n",
       "    </tr>\n",
       "    <tr>\n",
       "      <th>6</th>\n",
       "      <td>Carrier B</td>\n",
       "      <td>Road</td>\n",
       "      <td>4.91</td>\n",
       "    </tr>\n",
       "    <tr>\n",
       "      <th>7</th>\n",
       "      <td>Carrier B</td>\n",
       "      <td>Sea</td>\n",
       "      <td>6.67</td>\n",
       "    </tr>\n",
       "    <tr>\n",
       "      <th>8</th>\n",
       "      <td>Carrier C</td>\n",
       "      <td>Air</td>\n",
       "      <td>6.57</td>\n",
       "    </tr>\n",
       "    <tr>\n",
       "      <th>9</th>\n",
       "      <td>Carrier C</td>\n",
       "      <td>Rail</td>\n",
       "      <td>6.17</td>\n",
       "    </tr>\n",
       "    <tr>\n",
       "      <th>10</th>\n",
       "      <td>Carrier C</td>\n",
       "      <td>Road</td>\n",
       "      <td>3.71</td>\n",
       "    </tr>\n",
       "    <tr>\n",
       "      <th>11</th>\n",
       "      <td>Carrier C</td>\n",
       "      <td>Sea</td>\n",
       "      <td>7.33</td>\n",
       "    </tr>\n",
       "  </tbody>\n",
       "</table>\n",
       "</div>"
      ],
      "text/plain": [
       "   Shipping carriers Transportation modes  Shipping times\n",
       "0          Carrier A                  Air            5.60\n",
       "1          Carrier A                 Rail            7.43\n",
       "2          Carrier A                 Road            5.18\n",
       "3          Carrier A                  Sea            7.00\n",
       "4          Carrier B                  Air            4.21\n",
       "5          Carrier B                 Rail            6.33\n",
       "6          Carrier B                 Road            4.91\n",
       "7          Carrier B                  Sea            6.67\n",
       "8          Carrier C                  Air            6.57\n",
       "9          Carrier C                 Rail            6.17\n",
       "10         Carrier C                 Road            3.71\n",
       "11         Carrier C                  Sea            7.33"
      ]
     },
     "execution_count": 51,
     "metadata": {},
     "output_type": "execute_result"
    }
   ],
   "source": [
    "shipping = data.groupby(['Shipping carriers', 'Transportation modes'])['Shipping times'].mean().reset_index()\n",
    "shipping['Shipping times'] = shipping['Shipping times'].round(2)\n",
    "shipping"
   ]
  },
  {
   "cell_type": "code",
   "execution_count": 56,
   "id": "021a8b2f",
   "metadata": {},
   "outputs": [
    {
     "data": {
      "image/png": "[encoded data removed]",
      "text/plain": [
       "<Figure size 864x576 with 1 Axes>"
      ]
     },
     "metadata": {
      "needs_background": "light"
     },
     "output_type": "display_data"
    }
   ],
   "source": [
    "plt.figure(figsize = (12,8))\n",
    "p = sns.barplot(x = shipping['Transportation modes'], y = shipping['Shipping times'], hue = shipping['Shipping carriers'], palette = 'viridis')\n",
    "for container in p.containers:\n",
    "    p.bar_label(container,padding=-40, color='white', fontsize=10)\n",
    "plt.show()"
   ]
  },
  {
   "cell_type": "markdown",
   "id": "4aa4395f",
   "metadata": {},
   "source": [
    "##### According to the graph, the fastest and most efficient shipping option is Carrier B in all four transportation modes."
   ]
  },
  {
   "cell_type": "code",
   "execution_count": null,
   "id": "cf113a80",
   "metadata": {},
   "outputs": [],
   "source": []
  }
 ],
 "metadata": {
  "kernelspec": {
   "display_name": "Python 3 (ipykernel)",
   "language": "python",
   "name": "python3"
  },
  "language_info": {
   "codemirror_mode": {
    "name": "ipython",
    "version": 3
   },
   "file_extension": ".py",
   "mimetype": "text/x-python",
   "name": "python",
   "nbconvert_exporter": "python",
   "pygments_lexer": "ipython3",
   "version": "3.12.4"
  }
 },
 "nbformat": 4,
 "nbformat_minor": 5
}
